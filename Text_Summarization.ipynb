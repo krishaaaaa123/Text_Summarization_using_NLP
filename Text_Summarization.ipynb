{
  "nbformat": 4,
  "nbformat_minor": 0,
  "metadata": {
    "colab": {
      "provenance": [],
      "authorship_tag": "ABX9TyNV9i985NmVVB3nAAtVypjY",
      "include_colab_link": true
    },
    "kernelspec": {
      "name": "python3",
      "display_name": "Python 3"
    },
    "language_info": {
      "name": "python"
    }
  },
  "cells": [
    {
      "cell_type": "markdown",
      "metadata": {
        "id": "view-in-github",
        "colab_type": "text"
      },
      "source": [
        "<a href=\"https://colab.research.google.com/github/krishaaaaa123/Text_Summarization_using_NLP/blob/main/Text_Summarization.ipynb\" target=\"_parent\"><img src=\"https://colab.research.google.com/assets/colab-badge.svg\" alt=\"Open In Colab\"/></a>"
      ]
    },
    {
      "cell_type": "code",
      "execution_count": 1,
      "metadata": {
        "id": "dImYeytinlY2"
      },
      "outputs": [],
      "source": [
        "## input text article\n",
        "\n",
        "article_text = \"Natural Language Processing (NLP) has witnessed remarkable progress in recent years, driven by advancements in deep learning and the availability of large-scale datasets. This survey article provides an overview of the state-of-the-art techniques in NLP, focusing on key areas such as text classification, sentiment analysis, machine translation, and question-answering systems. We delve into the latest deep learning architectures, including Transformer-based models, BERT, and GPT-3, which have revolutionized NLP tasks. Furthermore, we discuss challenges and future directions in NLP research, highlighting potential applications in various domains.\""
      ]
    },
    {
      "cell_type": "code",
      "source": [
        "import re\n",
        "import nltk"
      ],
      "metadata": {
        "id": "ubC4lFcXoiZC"
      },
      "execution_count": 2,
      "outputs": []
    },
    {
      "cell_type": "code",
      "source": [
        "article_text = article_text.lower()\n",
        "article_text"
      ],
      "metadata": {
        "colab": {
          "base_uri": "https://localhost:8080/",
          "height": 104
        },
        "id": "_vzVDARvomLZ",
        "outputId": "7c1fd663-88d3-4176-93cb-cabf4057508f"
      },
      "execution_count": 14,
      "outputs": [
        {
          "output_type": "execute_result",
          "data": {
            "text/plain": [
              "'natural language processing (nlp) has witnessed remarkable progress in recent years, driven by advancements in deep learning and the availability of large-scale datasets. this survey article provides an overview of the state-of-the-art techniques in nlp, focusing on key areas such as text classification, sentiment analysis, machine translation, and question-answering systems. we delve into the latest deep learning architectures, including transformer-based models, bert, and gpt-3, which have revolutionized nlp tasks. furthermore, we discuss challenges and future directions in nlp research, highlighting potential applications in various domains.'"
            ],
            "application/vnd.google.colaboratory.intrinsic+json": {
              "type": "string"
            }
          },
          "metadata": {},
          "execution_count": 14
        }
      ]
    },
    {
      "cell_type": "code",
      "source": [
        "#remove numbers, punctuations and spaces\n",
        "\n",
        "clean_text= re.sub('[^a-zA-Z]', ' ', article_text)\n",
        "clean_text= re.sub('\\s+', ' ', clean_text)\n",
        "clean_text"
      ],
      "metadata": {
        "colab": {
          "base_uri": "https://localhost:8080/",
          "height": 104
        },
        "id": "rZlErYlNoyhG",
        "outputId": "abfc563d-9dc9-4ca2-c359-45768dba8d3c"
      },
      "execution_count": 4,
      "outputs": [
        {
          "output_type": "execute_result",
          "data": {
            "text/plain": [
              "'Natural Language Processing NLP has witnessed remarkable progress in recent years driven by advancements in deep learning and the availability of large scale datasets This survey article provides an overview of the state of the art techniques in NLP focusing on key areas such as text classification sentiment analysis machine translation and question answering systems We delve into the latest deep learning architectures including Transformer based models BERT and GPT which have revolutionized NLP tasks Furthermore we discuss challenges and future directions in NLP research highlighting potential applications in various domains '"
            ],
            "application/vnd.google.colaboratory.intrinsic+json": {
              "type": "string"
            }
          },
          "metadata": {},
          "execution_count": 4
        }
      ]
    },
    {
      "cell_type": "code",
      "source": [
        "import nltk\n",
        "nltk.download('punkt')"
      ],
      "metadata": {
        "colab": {
          "base_uri": "https://localhost:8080/"
        },
        "id": "BPqdHoEdcr8i",
        "outputId": "d0c85b49-4222-4c95-8faf-a14aa8a095c3"
      },
      "execution_count": 8,
      "outputs": [
        {
          "output_type": "stream",
          "name": "stderr",
          "text": [
            "[nltk_data] Downloading package punkt to /root/nltk_data...\n",
            "[nltk_data]   Unzipping tokenizers/punkt.zip.\n"
          ]
        },
        {
          "output_type": "execute_result",
          "data": {
            "text/plain": [
              "True"
            ]
          },
          "metadata": {},
          "execution_count": 8
        }
      ]
    },
    {
      "cell_type": "code",
      "source": [
        "sentence_list = nltk.sent_tokenize(article_text)\n",
        "sentence_list"
      ],
      "metadata": {
        "colab": {
          "base_uri": "https://localhost:8080/"
        },
        "id": "oy2RqySjpr1t",
        "outputId": "ca08ff25-9140-4861-a934-2a46c68f1ece"
      },
      "execution_count": 9,
      "outputs": [
        {
          "output_type": "execute_result",
          "data": {
            "text/plain": [
              "['Natural Language Processing (NLP) has witnessed remarkable progress in recent years, driven by advancements in deep learning and the availability of large-scale datasets.',\n",
              " 'This survey article provides an overview of the state-of-the-art techniques in NLP, focusing on key areas such as text classification, sentiment analysis, machine translation, and question-answering systems.',\n",
              " 'We delve into the latest deep learning architectures, including Transformer-based models, BERT, and GPT-3, which have revolutionized NLP tasks.',\n",
              " 'Furthermore, we discuss challenges and future directions in NLP research, highlighting potential applications in various domains.']"
            ]
          },
          "metadata": {},
          "execution_count": 9
        }
      ]
    },
    {
      "cell_type": "code",
      "source": [
        " import nltk\n",
        " nltk.download('stopwords')"
      ],
      "metadata": {
        "colab": {
          "base_uri": "https://localhost:8080/"
        },
        "id": "gzeRxa8udWoZ",
        "outputId": "eeb89764-6604-4d6e-b066-5967d10ef1a6"
      },
      "execution_count": 11,
      "outputs": [
        {
          "output_type": "stream",
          "name": "stderr",
          "text": [
            "[nltk_data] Downloading package stopwords to /root/nltk_data...\n",
            "[nltk_data]   Unzipping corpora/stopwords.zip.\n"
          ]
        },
        {
          "output_type": "execute_result",
          "data": {
            "text/plain": [
              "True"
            ]
          },
          "metadata": {},
          "execution_count": 11
        }
      ]
    },
    {
      "cell_type": "code",
      "source": [
        "stopwords = nltk.corpus.stopwords.words('english')\n",
        "\n",
        "word_frequencies = {}\n",
        "for word in nltk.word_tokenize(clean_text):\n",
        "  if word not in stopwords:\n",
        "    if word not in word_frequencies:\n",
        "      word_frequencies[word] = 1\n",
        "    else:\n",
        "      word_frequencies[word] += 1"
      ],
      "metadata": {
        "id": "RrxVGUFKcy3N"
      },
      "execution_count": 13,
      "outputs": []
    },
    {
      "cell_type": "code",
      "source": [
        "maximum_frequency = max(word_frequencies.values())\n",
        "\n",
        "for word in word_frequencies:\n",
        "  word_frequencies[word] = word_frequencies[word] / maximum_frequency"
      ],
      "metadata": {
        "id": "otP1GMLAetIT"
      },
      "execution_count": 15,
      "outputs": []
    },
    {
      "cell_type": "code",
      "source": [
        "sentence_scores = {}\n",
        "\n",
        "for sentence in sentence_list:\n",
        "  for word in nltk.word_tokenize(sentence):\n",
        "    if word in word_frequencies and len(sentence.split(' ')) < 30:\n",
        "      if sentence not in sentence_scores:\n",
        "        sentence_scores[sentence] = word_frequencies[word]\n",
        "      else:\n",
        "        sentence_scores[sentence] += word_frequencies[word]"
      ],
      "metadata": {
        "id": "9-FHBDjqgLTy"
      },
      "execution_count": 17,
      "outputs": []
    },
    {
      "cell_type": "code",
      "source": [
        "word_frequencies"
      ],
      "metadata": {
        "colab": {
          "base_uri": "https://localhost:8080/"
        },
        "id": "UuUcKnLHhZGd",
        "outputId": "fcac1fec-7597-4b4a-af5d-34b883856ae6"
      },
      "execution_count": 18,
      "outputs": [
        {
          "output_type": "execute_result",
          "data": {
            "text/plain": [
              "{'Natural': 0.25,\n",
              " 'Language': 0.25,\n",
              " 'Processing': 0.25,\n",
              " 'NLP': 1.0,\n",
              " 'witnessed': 0.25,\n",
              " 'remarkable': 0.25,\n",
              " 'progress': 0.25,\n",
              " 'recent': 0.25,\n",
              " 'years': 0.25,\n",
              " 'driven': 0.25,\n",
              " 'advancements': 0.25,\n",
              " 'deep': 0.5,\n",
              " 'learning': 0.5,\n",
              " 'availability': 0.25,\n",
              " 'large': 0.25,\n",
              " 'scale': 0.25,\n",
              " 'datasets': 0.25,\n",
              " 'This': 0.25,\n",
              " 'survey': 0.25,\n",
              " 'article': 0.25,\n",
              " 'provides': 0.25,\n",
              " 'overview': 0.25,\n",
              " 'state': 0.25,\n",
              " 'art': 0.25,\n",
              " 'techniques': 0.25,\n",
              " 'focusing': 0.25,\n",
              " 'key': 0.25,\n",
              " 'areas': 0.25,\n",
              " 'text': 0.25,\n",
              " 'classification': 0.25,\n",
              " 'sentiment': 0.25,\n",
              " 'analysis': 0.25,\n",
              " 'machine': 0.25,\n",
              " 'translation': 0.25,\n",
              " 'question': 0.25,\n",
              " 'answering': 0.25,\n",
              " 'systems': 0.25,\n",
              " 'We': 0.25,\n",
              " 'delve': 0.25,\n",
              " 'latest': 0.25,\n",
              " 'architectures': 0.25,\n",
              " 'including': 0.25,\n",
              " 'Transformer': 0.25,\n",
              " 'based': 0.25,\n",
              " 'models': 0.25,\n",
              " 'BERT': 0.25,\n",
              " 'GPT': 0.25,\n",
              " 'revolutionized': 0.25,\n",
              " 'tasks': 0.25,\n",
              " 'Furthermore': 0.25,\n",
              " 'discuss': 0.25,\n",
              " 'challenges': 0.25,\n",
              " 'future': 0.25,\n",
              " 'directions': 0.25,\n",
              " 'research': 0.25,\n",
              " 'highlighting': 0.25,\n",
              " 'potential': 0.25,\n",
              " 'applications': 0.25,\n",
              " 'various': 0.25,\n",
              " 'domains': 0.25}"
            ]
          },
          "metadata": {},
          "execution_count": 18
        }
      ]
    },
    {
      "cell_type": "code",
      "source": [
        "sentence_scores"
      ],
      "metadata": {
        "colab": {
          "base_uri": "https://localhost:8080/"
        },
        "id": "_mFOcBdqhoNi",
        "outputId": "c3a1bc07-ac95-44d0-97a2-653477eff304"
      },
      "execution_count": 19,
      "outputs": [
        {
          "output_type": "execute_result",
          "data": {
            "text/plain": [
              "{'Natural Language Processing (NLP) has witnessed remarkable progress in recent years, driven by advancements in deep learning and the availability of large-scale datasets.': 5.0,\n",
              " 'This survey article provides an overview of the state-of-the-art techniques in NLP, focusing on key areas such as text classification, sentiment analysis, machine translation, and question-answering systems.': 5.0,\n",
              " 'We delve into the latest deep learning architectures, including Transformer-based models, BERT, and GPT-3, which have revolutionized NLP tasks.': 4.25,\n",
              " 'Furthermore, we discuss challenges and future directions in NLP research, highlighting potential applications in various domains.': 3.75}"
            ]
          },
          "metadata": {},
          "execution_count": 19
        }
      ]
    },
    {
      "cell_type": "code",
      "source": [
        "#get top 5 sentences\n",
        "\n",
        "import heapq\n",
        "summary = heapq.nlargest(5, sentence_scores, key=sentence_scores.get)\n",
        "\n",
        "print(\" \".join(summary))"
      ],
      "metadata": {
        "colab": {
          "base_uri": "https://localhost:8080/"
        },
        "id": "cVPvEdoAhqyr",
        "outputId": "717bb42d-2002-45ae-8e52-a5290eaa800b"
      },
      "execution_count": 20,
      "outputs": [
        {
          "output_type": "stream",
          "name": "stdout",
          "text": [
            "Natural Language Processing (NLP) has witnessed remarkable progress in recent years, driven by advancements in deep learning and the availability of large-scale datasets. This survey article provides an overview of the state-of-the-art techniques in NLP, focusing on key areas such as text classification, sentiment analysis, machine translation, and question-answering systems. We delve into the latest deep learning architectures, including Transformer-based models, BERT, and GPT-3, which have revolutionized NLP tasks. Furthermore, we discuss challenges and future directions in NLP research, highlighting potential applications in various domains.\n"
          ]
        }
      ]
    }
  ]
}